{
  "nbformat": 4,
  "nbformat_minor": 0,
  "metadata": {
    "colab": {
      "name": "PlayerDetectorPredictor.ipynb",
      "provenance": [],
      "collapsed_sections": [],
      "include_colab_link": true
    },
    "kernelspec": {
      "name": "python3",
      "display_name": "Python 3"
    },
    "accelerator": "GPU"
  },
  "cells": [
    {
      "cell_type": "markdown",
      "metadata": {
        "id": "view-in-github",
        "colab_type": "text"
      },
      "source": [
        "<a href=\"https://colab.research.google.com/github/ryanro97/player-detector/blob/master/PlayerDetectorPredictor.ipynb\" target=\"_parent\"><img src=\"https://colab.research.google.com/assets/colab-badge.svg\" alt=\"Open In Colab\"/></a>"
      ]
    },
    {
      "cell_type": "markdown",
      "metadata": {
        "id": "B9l1GWjnhUWj",
        "colab_type": "text"
      },
      "source": [
        "# Player Detector Predictor\n",
        "---\n",
        "Predictor for frame by frame player detection, using a custom dataset, and weights trained by a our trainer. Implemented using [PyTorch's Faster R-CNN model with a ResNet-50-FPN Backbone](https://pytorch.org/docs/stable/torchvision/models.html#faster-r-cnn).\n",
        "\n",
        "<br />\n",
        "\n",
        "### Directory Hierarchy:\n",
        "```\n",
        "PlayerDetector\n",
        "├── data\n",
        "    ├── train\n",
        "        ├── images\n",
        "            ├── *.jpg\n",
        "        ├── targets\n",
        "            ├── classes.txt\n",
        "            ├── *.txt\n",
        "    ├── predict\n",
        "        ├── video\n",
        "            ├── *.mp4\n",
        "├── PlayerDetectorTrainer.ipynb\n",
        "├── PlayerDetectorPredictor.ipynb\n",
        "```\n"
      ]
    },
    {
      "cell_type": "markdown",
      "metadata": {
        "id": "wOTs4ilwnhfo",
        "colab_type": "text"
      },
      "source": [
        "### Install Dependencies for Google Colab"
      ]
    },
    {
      "cell_type": "code",
      "metadata": {
        "id": "WnGyKkh_hUwT",
        "colab_type": "code",
        "colab": {}
      },
      "source": [
        "!pip3 install numpy opencv-python pillow scikit-video torch torchvision"
      ],
      "execution_count": 0,
      "outputs": []
    },
    {
      "cell_type": "markdown",
      "metadata": {
        "id": "VBdl0y1Jnm7-",
        "colab_type": "text"
      },
      "source": [
        "### Mount Google Drive"
      ]
    },
    {
      "cell_type": "code",
      "metadata": {
        "id": "DW9Kgt4n0Irn",
        "colab_type": "code",
        "colab": {}
      },
      "source": [
        "from google.colab import drive\n",
        "drive.mount('/content/drive')"
      ],
      "execution_count": 0,
      "outputs": []
    },
    {
      "cell_type": "markdown",
      "metadata": {
        "id": "M98tlJLonpli",
        "colab_type": "text"
      },
      "source": [
        "### Imports"
      ]
    },
    {
      "cell_type": "code",
      "metadata": {
        "id": "0dF2Py1V0K1Q",
        "colab_type": "code",
        "colab": {}
      },
      "source": [
        "import cv2\n",
        "import numpy as np\n",
        "import os\n",
        "import skvideo.io\n",
        "import torch\n",
        "from torch.utils.data import DataLoader, Dataset\n",
        "from torchvision.transforms import ToTensor, ToPILImage\n",
        "from torchvision.models.detection import fasterrcnn_resnet50_fpn\n",
        "from PIL import Image"
      ],
      "execution_count": 0,
      "outputs": []
    },
    {
      "cell_type": "markdown",
      "metadata": {
        "id": "_bNu89fgnsNU",
        "colab_type": "text"
      },
      "source": [
        "### Custom PyTorch Dataset\n",
        "Handles frame extraction from the input video, and also provides dataset details, such as prediction directory, labels, video_name, and frame shape.\n",
        "\n",
        "<br />\n",
        "\n",
        "#### Errors\n",
        "```\n",
        "IOError: Class read error\n",
        "IndexError: Only one file should be in the video folder\n",
        "TypeError: Video file is not of .mp4 format\n",
        "IOError: Frame write error\n",
        "IOError: Video read error\n",
        "```"
      ]
    },
    {
      "cell_type": "code",
      "metadata": {
        "id": "uo5412j70Pv6",
        "colab_type": "code",
        "colab": {}
      },
      "source": [
        "class PlayerPredictorDataset(Dataset):\n",
        "    def __init__(self):\n",
        "        cwd = os.getcwd()\n",
        "        self.predict_dir = os.path.join(cwd, 'predict')\n",
        "\n",
        "        labels_file = os.path.join(cwd, 'data/train/targets/classes.txt')\n",
        "        self.labels = []\n",
        "        with open(labels_file) as f:\n",
        "            for line in f:\n",
        "                self.labels.append(line.strip())\n",
        "        if not len(self.labels):\n",
        "            raise IOError('Class read error')\n",
        "\n",
        "        video_dir = os.path.join(self.predict_dir, 'video')\n",
        "        video = os.listdir(video_dir)\n",
        "        if len(video) > 1 or not len(video):\n",
        "            index_error = \\\n",
        "                'There should one and only one file in the video folder'\n",
        "            raise IndexError(index_error)\n",
        "        elif os.path.splitext(video[0])[1] != '.mp4':\n",
        "            raise TypeError('Video file is not of .mp4 format')\n",
        "\n",
        "        self.video_name = os.path.splitext(video[0])[0]\n",
        "        vc = cv2.VideoCapture(os.path.join(video_dir, video[0]))\n",
        "\n",
        "        self.frames_dir = os.path.join(self.predict_dir, 'frames')\n",
        "        if not os.path.exists(self.frames_dir):\n",
        "            os.makedirs('frames')\n",
        "        else:\n",
        "            frames_dir_list = os.listdir(self.frames_dir)\n",
        "            for frame in frames_dir_list:\n",
        "                os.remove(os.path.join(self.frames_dir, frame))\n",
        "        os.chdir(self.frames_dir)\n",
        "\n",
        "        self.length = 0\n",
        "        frame = None\n",
        "        while True:\n",
        "            success, image = vc.read()\n",
        "            if success:\n",
        "                frame = image\n",
        "                self.length += 1\n",
        "                written = cv2.imwrite('frame%04d.jpg' % self.length, image)\n",
        "                if not written:\n",
        "                    raise IOError('Frame write error')\n",
        "            else:\n",
        "                break\n",
        "        if frame is None:\n",
        "            raise IOError('Video read error')\n",
        "        \n",
        "        self.h, self.w = frame.shape[:2]\n",
        "        self.images = sorted(os.listdir(self.frames_dir))\n",
        "        os.chdir(cwd)\n",
        "    \n",
        "    def __len__(self):\n",
        "        return self.length\n",
        "    \n",
        "    def __getitem__(self, idx):\n",
        "        image_path = os.path.join(self.frames_dir, self.images[idx])\n",
        "        image = ToTensor()(Image.open(image_path).convert(\"RGB\"))\n",
        "        \n",
        "        return image\n",
        "\n",
        "    def getPredictDir(self):\n",
        "        return self.predict_dir\n",
        "    \n",
        "    def getLabels(self):\n",
        "        return self.labels\n",
        "\n",
        "    def getVideoName(self):\n",
        "        return self.video_name\n",
        "\n",
        "    def getShape(self):\n",
        "        return self.h, self.w"
      ],
      "execution_count": 0,
      "outputs": []
    },
    {
      "cell_type": "markdown",
      "metadata": {
        "id": "cYDyqRAar2ZP",
        "colab_type": "text"
      },
      "source": [
        "### Evaluate Function\n",
        "Takes in the working directory (root directory in the data hierarchy diagram) and uses the trained weights, and applies predictions to each frame, and then reconstructs a video with predictions.\n",
        "\n",
        "<br />\n",
        "\n",
        "#### Parameters\n",
        "```\n",
        "working_dir: String representation of the working directory\n",
        "```"
      ]
    },
    {
      "cell_type": "code",
      "metadata": {
        "id": "BphDLnr3PPUF",
        "colab_type": "code",
        "colab": {}
      },
      "source": [
        "def evaluate(working_dir):\n",
        "    os.chdir(working_dir)\n",
        "\n",
        "    dataset = PlayerPredictorDataset()\n",
        "    data_loader = DataLoader(dataset)\n",
        "    predict_dir = dataset.getPredictDir()\n",
        "    labels = dataset.getLabels()\n",
        "    h, w = dataset.getShape()\n",
        "    video_name = dataset.getVideoName()\n",
        "\n",
        "    model = fasterrcnn_resnet50_fpn(num_classes=len(labels))\n",
        "    model.load_state_dict(torch.load('weights.pt'))\n",
        "    device = torch.device('cuda') if torch.cuda.is_available() \\\n",
        "             else torch.device('cpu')\n",
        "    model.to(device)\n",
        "\n",
        "    model.eval()\n",
        "    cpu_device = torch.device(\"cpu\")\n",
        "    with torch.no_grad():\n",
        "        i = 0\n",
        "        video = np.empty([len(data_loader), h, w, 3]).astype(np.uint8)\n",
        "        for images in data_loader:\n",
        "            images = list(image.to(device) for image in images)\n",
        "            outputs = [{k: v.to(cpu_device) for k, v in t.items()} \\\n",
        "                       for t in model(images)]\n",
        "            \n",
        "            img = np.array(ToPILImage()(images[0].cpu()))\n",
        "\n",
        "            if len(outputs[0]['boxes']) >= 1:\n",
        "                x0, y0, x1, y1 = outputs[0]['boxes'][0]\n",
        "                cv2.rectangle(img, (x0, y0), (x1, y1), (255, 255, 255), 2)\n",
        "                score = outputs[0]['scores'][0].item() * 100\n",
        "                label = labels[outputs[0]['labels'][0] - 1]\n",
        "                text = '%s %d%%' % (label, score)\n",
        "                font = cv2.FONT_HERSHEY_PLAIN\n",
        "                text_w, text_h = cv2.getTextSize(text, font, 1, 1)[0]\n",
        "                cv2.rectangle(img, (x0 - 1 , y0 - 1), \\\n",
        "                              (x0 + text_w + 20, y0 - text_h - 20), \\\n",
        "                              (255, 255, 255), cv2.FILLED)\n",
        "                cv2.putText(img, text, (x0 + 9, y0 - 9), font, 1, (0, 0, 0))\n",
        "            video[i] = img\n",
        "            i += 1\n",
        "        os.chdir(predict_dir)\n",
        "        skvideo.io.vwrite(video_name + '_predicted.mp4', video)\n",
        "        os.chdir(working_dir)"
      ],
      "execution_count": 0,
      "outputs": []
    },
    {
      "cell_type": "markdown",
      "metadata": {
        "id": "O1fDGshtDP9z",
        "colab_type": "text"
      },
      "source": [
        "### Evaluating the video"
      ]
    },
    {
      "cell_type": "code",
      "metadata": {
        "id": "cxPGpk6fewOM",
        "colab_type": "code",
        "colab": {}
      },
      "source": [
        "evaluate('/content/drive/My Drive/PlayerDetector')"
      ],
      "execution_count": 0,
      "outputs": []
    }
  ]
}